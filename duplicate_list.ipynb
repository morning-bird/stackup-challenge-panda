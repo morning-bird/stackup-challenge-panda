{
 "cells": [
  {
   "cell_type": "code",
   "execution_count": null,
   "metadata": {},
   "outputs": [],
   "source": [
    "duplicate_list = ['Kerala','Delhi','Rajasthan','Uttar Pradesh','Haryana','Ladakh','Tamil Nadu','Karnataka','Maharashtra','Punjab','Jammu and Kashmir','Andhra Pradesh','Uttarakhand','Odisha','Puducherry','West Bengal',\n",
    "'Chhattisgarh','Chandigarh','Gujarat','Himachal Pradesh','Madhya Pradesh','Bihar','Manipur','Mizoram','Andaman and Nicobar Islands','Goa','Assam','Jharkhand','Arunachal Pradesh','Tripura','Nagaland','Meghalaya',\n",
    "'Dadra and Nagar Haveli and Daman and Diu','Sikkim','Lakshadweep','Telangana']"
   ]
  }
 ],
 "metadata": {
  "language_info": {
   "name": "python"
  },
  "orig_nbformat": 4
 },
 "nbformat": 4,
 "nbformat_minor": 2
}
